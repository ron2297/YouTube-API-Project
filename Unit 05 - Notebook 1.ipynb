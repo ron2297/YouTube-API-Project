{
 "cells": [
  {
   "cell_type": "markdown",
   "metadata": {},
   "source": [
    "NAME = \"Ronald Washington III & Z Elmandouh\"\n",
    "\n",
    "CLASS = CS 181\n"
   ]
  },
  {
   "cell_type": "markdown",
   "metadata": {},
   "source": [
    "# Unit 05 Project: Web Service APIs\n",
    "\n",
    "## Notebook 1 - _Token acquisition notebook_\n",
    "> Token acquisition notebook: this notebook handles the code cells/steps needed to get an access token. For the most part, these steps only need be executed one time, to go from first registration of a client with a provider to the point where an access token is received (nominally Step 8 of the OAuth Dance). If tokens need to be refreshed, then the cell(s) needed to refresh a token could be here as well.\n",
    "\n",
    "\n"
   ]
  },
  {
   "cell_type": "markdown",
   "metadata": {},
   "source": [
    "For this project, we are using the YouTube Data API and are using OAuth2 in order to access the data of an authenticated user. The purpose of this project is to enable a YouTube account to gather its own personal data and or data from YouTube and produce JSON files of authentication tokens. The given tokens will then be used within a later Jupyter Notebook to enable data collection. From there, authenticated users will be able to gather and manipulate YouTube data.\n",
    "\n",
    "Within the OAuth2 process, we are creating a project from a Google account with an associated YouTube account as the resource owner account. A .py file is needed for this project which will include neccessary identificaiton such as the client_id, scope, redirect, and etc. This file will contain JSON information which will be used to protect the account's private information."
   ]
  },
  {
   "cell_type": "code",
   "execution_count": 31,
   "metadata": {},
   "outputs": [
    {
     "name": "stdout",
     "output_type": "stream",
     "text": [
      "182226077274-bkijp4t ['https://www.googleapis.com/auth/youtube'] http://localhost/oauth2callback\n"
     ]
    }
   ],
   "source": [
    "import importlib\n",
    "import keys \n",
    "importlib.reload(keys)\n",
    "import json\n",
    "import pprint\n",
    "keychain = keys.keychain\n",
    "\n",
    "pp = pprint.PrettyPrinter(indent=2)\n",
    "\n",
    "client_id = keychain['google']['client_id']\n",
    "scope = keychain['google']['scope']\n",
    "redirect = keychain['google']['redirect_uris'][1]\n",
    "print(client_id[:20], scope, redirect)"
   ]
  },
  {
   "cell_type": "code",
   "execution_count": 32,
   "metadata": {
    "collapsed": true
   },
   "outputs": [],
   "source": [
    "from requests_oauthlib import OAuth2Session"
   ]
  },
  {
   "cell_type": "markdown",
   "metadata": {},
   "source": [
    "####  Compose the `auth_url`\n"
   ]
  },
  {
   "cell_type": "code",
   "execution_count": 33,
   "metadata": {},
   "outputs": [
    {
     "name": "stdout",
     "output_type": "stream",
     "text": [
      "https://accounts.google.com/o/oauth2/auth?response_type=code&client_id=182226077274-bkijp4t2urcqj79hvngno6v0nsmjbbv8.apps.googleusercontent.com&redirect_uri=http%3A%2F%2Flocalhost%2Foauth2callback&scope=https%3A%2F%2Fwww.googleapis.com%2Fauth%2Fyoutube&state=I7fXKFk61oJq75iRvGYNU3nec1tG3b&access_type=offline&prompt=consent\n"
     ]
    }
   ],
   "source": [
    "session = OAuth2Session(client_id, scope=scope, redirect_uri=redirect)\n",
    "auth_url, state = session.authorization_url(keychain['google']['auth_uri'],access_type='offline',prompt='consent')\n",
    "print(auth_url)"
   ]
  },
  {
   "cell_type": "code",
   "execution_count": 34,
   "metadata": {},
   "outputs": [
    {
     "data": {
      "text/plain": [
       "True"
      ]
     },
     "execution_count": 34,
     "metadata": {},
     "output_type": "execute_result"
    }
   ],
   "source": [
    "import webbrowser\n",
    "webbrowser.open(auth_url)"
   ]
  },
  {
   "cell_type": "markdown",
   "metadata": {},
   "source": [
    "#### Give the `code` from the Resource Owner to the Client"
   ]
  },
  {
   "cell_type": "code",
   "execution_count": 35,
   "metadata": {
    "collapsed": true
   },
   "outputs": [],
   "source": [
    "code = '4/DEnxvJvaiZSgW6EbdM7ffF18MMFkgbSUUfe8A39huPY'"
   ]
  },
  {
   "cell_type": "markdown",
   "metadata": {},
   "source": [
    "#### Checking `code` and client credentials for access token"
   ]
  },
  {
   "cell_type": "code",
   "execution_count": 36,
   "metadata": {},
   "outputs": [
    {
     "name": "stdout",
     "output_type": "stream",
     "text": [
      "JmQ6GkezAnyOXV5SiwgJSozA\n",
      "https://accounts.google.com/o/oauth2/token\n"
     ]
    }
   ],
   "source": [
    "print(keychain['google']['client_secret'])\n",
    "print(keychain['google']['token_uri'])"
   ]
  },
  {
   "cell_type": "markdown",
   "metadata": {},
   "source": [
    "#### Retrieve `access_token` "
   ]
  },
  {
   "cell_type": "code",
   "execution_count": 37,
   "metadata": {},
   "outputs": [
    {
     "name": "stdout",
     "output_type": "stream",
     "text": [
      "{'access_token': 'ya29.GlsfBUnh2yek60TWEuovinJdQj78As74oh_MUHTFMTRF4pfMKG8-8K0RGgJ4ISvsS8dyOc-TonlV2ZusyIjsmHHGp90HMe0lpXn4lRMe-jzt79MwSD2oudluOoj2', 'expires_in': 3600, 'refresh_token': '1/IoWSEZjZ2yElcFGHBztRGUdjpvoFvOMXJttWXuJp3V4', 'token_type': 'Bearer', 'expires_at': 1513039613.8764255}\n"
     ]
    }
   ],
   "source": [
    "token = session.fetch_token(keychain['google']['token_uri'], \n",
    "                                   code=code, \n",
    "                            \n",
    "                                   client_secret=keychain['google']['client_secret'])\n",
    "print(token)"
   ]
  },
  {
   "cell_type": "markdown",
   "metadata": {},
   "source": [
    "## Retreiving Refresh Token"
   ]
  },
  {
   "cell_type": "code",
   "execution_count": 38,
   "metadata": {
    "collapsed": true
   },
   "outputs": [],
   "source": [
    "import json\n",
    "with open('token.json','w') as outfile:\n",
    "    json.dump(token,outfile)"
   ]
  },
  {
   "cell_type": "markdown",
   "metadata": {},
   "source": [
    "### Various successes and challenges the team encountered \n",
    "\n",
    "Due to us working with the YouTube API, gathering the token was similar in steps to the Google API. We simply followed the same steps. One difference that we have within our token gathering is withint he session authorization url we included access_type='offline' and prompt='consent'. By including these two clauses we enabled that when the token expires, we would still be able to access that users' information. Access type = offline lets us continue using aurthorized account after one hour and prompt = consent enables us to use the accounts information."
   ]
  }
 ],
 "metadata": {
  "celltoolbar": "Create Assignment",
  "kernelspec": {
   "display_name": "Python 3",
   "language": "python",
   "name": "python3"
  },
  "language_info": {
   "codemirror_mode": {
    "name": "ipython",
    "version": 3
   },
   "file_extension": ".py",
   "mimetype": "text/x-python",
   "name": "python",
   "nbconvert_exporter": "python",
   "pygments_lexer": "ipython3",
   "version": "3.6.1"
  }
 },
 "nbformat": 4,
 "nbformat_minor": 2
}
