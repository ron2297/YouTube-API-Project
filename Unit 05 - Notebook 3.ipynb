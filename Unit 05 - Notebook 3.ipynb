{
 "cells": [
  {
   "cell_type": "markdown",
   "metadata": {},
   "source": [
    "NAME = \"Ronald Washington III & Z Elmandouh\"\n",
    "\n",
    "CLASS = CS 181\n"
   ]
  },
  {
   "cell_type": "markdown",
   "metadata": {},
   "source": [
    "# Unit 05 Project: Web Service APIs\n",
    "\n",
    "## Notebook 3 - _Visualization notebook_\n",
    "> Results presentation notebook: this notebook documents, for a non-expert audience, the results of the data exploration, with the same standard of narrative and data presentation clarity as previous projects.\n",
    "\n",
    "\n"
   ]
  },
  {
   "cell_type": "markdown",
   "metadata": {},
   "source": [
    "\n",
    "### Question/Visualization 1\n",
    "\n",
    "#### In a more quantitative way, we seeked to know among a users subscribed channels, which had the most amount of subscribers and how did that compare to their number of views?\n",
    "\n",
    "After gathering data on the authorized account's list of subscribers, we then developed a plot of circles to show the distribution among subscribed channels. Here the scaling represents the fewer number of of subscribers are in a dark blue color. Meanwhile, a large number of subscribers is represented in the color red. For this account, we have found that the most subscribed YouTube channel is PewDiePie.  Additionally, the size of each bubble represents the number of views each channel has in total. Based on the visual, we find that the largest circles all are in the range of having 1.5 million to 2.3 million views. The most popular channels this account is subscribed to consist of PewDiePie, NigaHiga, Markiplier, Smosh Games, Machinima, Smost Pit, JustKiddingNews, Screw Attack, Timothy DeLaGetto, Domics, and Wong Fu."
   ]
  },
  {
   "cell_type": "markdown",
   "metadata": {},
   "source": [
    "\n",
    "![alt text](Views Vs. Number of Subscribers.jpg \"Title\")"
   ]
  },
  {
   "cell_type": "markdown",
   "metadata": {},
   "source": [
    "\n",
    "### Question/Visualization 2\n",
    "\n",
    "#### What video category per month made it onto YouTube's Trending list? How many views did this video have? \n",
    "\n",
    "Every day, casual users on YouTube are able to notice the Trending list and how it tends to change over time. We decided to look into the types of category of videos that make it onto the Trending list and determine why based on views. After gathering the data for the current Trending list on Youtube, we find that the Trending list is updated quarterly. Thus far, the entertainment category has had the largest number of views in the past quarter of 4,340,759 views in August. Furthermore, within the image below we have detailed the category with the largest and lowest number of views per month in the past quarter. Recently, the News category has had the lowest number of views on trending.\n"
   ]
  },
  {
   "cell_type": "markdown",
   "metadata": {},
   "source": [
    "\n",
    "![alt text](Views Per Category on Trending Per Month1.jpg \"Title\")"
   ]
  },
  {
   "cell_type": "markdown",
   "metadata": {},
   "source": [
    "\n",
    "### Question/Visualization 3\n",
    "\n",
    "#### What video category contributed the most likes to YouTube's Trending list? Which channel had the most likes? \n",
    "\n",
    "Based on the finding of the previous question, we decided to look into which categorys contributed the most likes on the trending list. Similar in views, the entertainment category contributed the most about of likes thus far on the trending list. The graph below also presents the trends that categories have among each channel that consisted of a largest and lowest number of likes. Here we find that Universial Pictures presented the most likes of 499,419, and the channel with the lowest among of likes The Dodo with 4.1K. Overall, the entertainment category has grown the most within this quarter for YouTube Trends, and Music is second with in comparison in growing."
   ]
  },
  {
   "cell_type": "markdown",
   "metadata": {},
   "source": [
    "\n",
    "![img](https://raw.githubusercontent.com/ron2297/YouTube-API-Project/master/Views%20Per%20Category%20on%20Trending%20Per%20Month1.jpg)"
   ]
  },
  {
   "cell_type": "code",
   "execution_count": null,
   "metadata": {
    "collapsed": true
   },
   "outputs": [],
   "source": []
  }
 ],
 "metadata": {
  "celltoolbar": "Create Assignment",
  "kernelspec": {
   "display_name": "Python 3",
   "language": "python",
   "name": "python3"
  },
  "language_info": {
   "codemirror_mode": {
    "name": "ipython",
    "version": 3
   },
   "file_extension": ".py",
   "mimetype": "text/x-python",
   "name": "python",
   "nbconvert_exporter": "python",
   "pygments_lexer": "ipython3",
   "version": "3.6.1"
  }
 },
 "nbformat": 4,
 "nbformat_minor": 2
}
